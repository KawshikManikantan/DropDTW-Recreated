{
 "cells": [
  {
   "cell_type": "code",
   "execution_count": 3,
   "metadata": {},
   "outputs": [],
   "source": [
    "import numpy as np\n",
    "import matplotlib.pyplot as plt\n",
    "import seaborn as sns\n",
    "from dropdtw import drop_dtw"
   ]
  },
  {
   "cell_type": "code",
   "execution_count": null,
   "metadata": {},
   "outputs": [],
   "source": [
    "similarity_silence = np.load('similarity.npy').T ###  Load the similarity matrix between the scripts and summary\n",
    "\n",
    "## Not attaching code for my similarity matrix as it was quite old and very intensive\n",
    "\n",
    "cost_matrix = 1/(similarity_silence + 1e-4)\n",
    "\n",
    "K = similarity_silence.shape[0]\n",
    "N = similarity_silence.shape[1]\n",
    "cost_val = np.percentile(similarity_silence[np.nonzero(similarity_silence)],100)\n",
    "cost_z= np.array([1/cost_val for i in range(N)])\n",
    "cost_x = np.array([1/cost_val for i in range(K)])"
   ]
  },
  {
   "cell_type": "code",
   "execution_count": null,
   "metadata": {},
   "outputs": [
    {
     "name": "stdout",
     "output_type": "stream",
     "text": [
      "[(28, 136, 1), (28, 135, 0), (27, 134, 0), (26, 133, 0), (25, 132, 1), (25, 131, 1), (25, 130, 1), (25, 129, 1), (25, 128, 1), (25, 127, 1), (25, 126, 1), (25, 125, 1), (25, 124, 1), (25, 123, 1), (25, 122, 1), (25, 121, 1), (25, 120, 1), (25, 119, 0), (24, 119, 0), (23, 119, 0), (22, 118, 1), (22, 117, 1), (22, 116, 1), (22, 115, 1), (22, 114, 1), (22, 113, 1), (22, 112, 1), (22, 111, 1), (22, 110, 1), (22, 109, 1), (22, 108, 1), (22, 107, 1), (22, 106, 1), (22, 105, 1), (22, 104, 1), (22, 103, 1), (22, 102, 1), (22, 101, 1), (22, 100, 1), (22, 99, 1), (22, 98, 1), (22, 97, 0), (21, 96, 0), (20, 95, 0), (19, 94, 1), (19, 93, 1), (19, 92, 1), (19, 91, 1), (19, 90, 1), (19, 89, 1), (19, 88, 1), (19, 87, 1), (19, 86, 1), (19, 85, 1), (19, 84, 1), (19, 83, 1), (19, 82, 1), (19, 81, 1), (19, 80, 1), (19, 79, 1), (19, 78, 1), (19, 77, 1), (19, 76, 1), (19, 75, 1), (19, 74, 1), (19, 73, 1), (19, 72, 1), (19, 71, 1), (19, 70, 1), (19, 69, 1), (19, 68, 1), (19, 67, 1), (19, 66, 1), (19, 65, 0), (18, 65, 0), (17, 65, 0), (16, 65, 0), (15, 65, 0), (14, 64, 1), (14, 63, 1), (14, 62, 1), (14, 61, 1), (14, 60, 1), (14, 59, 1), (14, 58, 1), (14, 57, 1), (14, 56, 1), (14, 55, 1), (14, 54, 1), (14, 53, 1), (14, 52, 1), (14, 51, 1), (14, 50, 1), (14, 49, 1), (14, 48, 1), (14, 47, 0), (13, 47, 0), (12, 47, 0), (11, 46, 1), (11, 45, 1), (11, 44, 0), (10, 43, 1), (10, 42, 0), (9, 41, 1), (9, 40, 1), (9, 39, 1), (9, 38, 1), (9, 37, 1), (9, 36, 1), (9, 35, 1), (9, 34, 1), (9, 33, 1), (9, 32, 1), (9, 31, 1), (9, 30, 1), (9, 29, 1), (9, 28, 1), (9, 27, 1), (9, 26, 1), (9, 25, 1), (9, 24, 1), (9, 23, 1), (9, 22, 1), (9, 21, 1), (9, 20, 1), (9, 19, 0), (8, 18, 0), (7, 17, 0), (6, 16, 1), (6, 15, 1), (6, 14, 1), (6, 13, 1), (6, 12, 1), (6, 11, 1), (6, 10, 1), (6, 9, 1), (6, 8, 1), (6, 7, 0), (5, 7, 0), (4, 7, 0), (3, 6, 1), (3, 5, 1), (3, 4, 0), (2, 3, 0), (1, 2, 0), (0, 1, 1)]\n"
     ]
    },
    {
     "data": {
      "text/plain": [
       "<matplotlib.image.AxesImage at 0x268aa9c0a00>"
      ]
     },
     "execution_count": 5,
     "metadata": {},
     "output_type": "execute_result"
    },
    {
     "data": {
      "image/png": "[encoded data removed]",
      "text/plain": [
       "<Figure size 1440x1440 with 1 Axes>"
      ]
     },
     "metadata": {
      "needs_background": "light"
     },
     "output_type": "display_data"
    }
   ],
   "source": [
    "final_cost,path,drops = drop_dtw(cost_matrix,cost_z,exclusive=False,contiguous=False,return_labels=False)\n",
    "alignment = np.zeros((K,N))\n",
    "for point in path:\n",
    "    if point[2] == 0:\n",
    "        alignment[point[0]-1][point[1]-1] = 1\n",
    "\n",
    "fig,axs = plt.subplots(figsize=(20,20))   \n",
    "axs.imshow(alignment)"
   ]
  }
 ],
 "metadata": {
  "kernelspec": {
   "display_name": "alignarr",
   "language": "python",
   "name": "python3"
  },
  "language_info": {
   "codemirror_mode": {
    "name": "ipython",
    "version": 3
   },
   "file_extension": ".py",
   "mimetype": "text/x-python",
   "name": "python",
   "nbconvert_exporter": "python",
   "pygments_lexer": "ipython3",
   "version": "3.9.6"
  },
  "orig_nbformat": 4
 },
 "nbformat": 4,
 "nbformat_minor": 2
}
